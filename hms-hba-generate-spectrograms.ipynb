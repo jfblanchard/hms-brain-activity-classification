{
 "cells": [
  {
   "cell_type": "markdown",
   "source": [
    "# Generate HMS-HBA Spectrogram files\n",
    "* Process and save spectrograms as images for training\n"
   ],
   "metadata": {
    "collapsed": false
   },
   "id": "de28ad22c421603d"
  },
  {
   "cell_type": "markdown",
   "source": [
    "# Install libraries"
   ],
   "metadata": {
    "collapsed": false
   },
   "id": "6f42b49ec8c97478"
  },
  {
   "cell_type": "raw",
   "source": [
    "!pip install -q scienceplots"
   ],
   "metadata": {
    "collapsed": false
   },
   "id": "c9b086fb7048c6a7"
  },
  {
   "cell_type": "markdown",
   "source": [
    "# Import libraries"
   ],
   "metadata": {
    "collapsed": false
   },
   "id": "87ee13d4cd715be4"
  },
  {
   "cell_type": "code",
   "execution_count": 14,
   "outputs": [],
   "source": [
    "import os\n",
    "import cv2\n",
    "import glob\n",
    "import numpy as np\n",
    "import pandas as pd\n",
    "pd.set_option('display.max_columns', 50)\n",
    "\n",
    "import matplotlib.pyplot as plt\n",
    "import seaborn as sns\n",
    "sns.set_style('whitegrid')\n",
    "import scienceplots\n",
    "plt.style.use(['science','no-latex'])\n",
    "\n",
    "from tqdm import tqdm\n",
    "import warnings\n",
    "warnings.filterwarnings(\"ignore\")"
   ],
   "metadata": {
    "collapsed": false,
    "ExecuteTime": {
     "end_time": "2024-01-24T13:20:14.317992219Z",
     "start_time": "2024-01-24T13:20:14.206031655Z"
    }
   },
   "id": "e1603e40a8b0622c"
  },
  {
   "cell_type": "markdown",
   "source": [
    "# Load data"
   ],
   "metadata": {
    "collapsed": false
   },
   "id": "d88d23706d69c9dd"
  },
  {
   "cell_type": "code",
   "execution_count": 2,
   "outputs": [],
   "source": [
    "kaggle = False\n",
    "root_dir = '.'\n",
    "if kaggle:\n",
    "    root_dir = '/kaggle/input/hms-harmful-brain-activity-classification'\n",
    "\n",
    "train = pd.read_csv(root_dir + '/train.csv')\n",
    "test = pd.read_csv(root_dir + '/test.csv')\n",
    "ss = pd.read_csv(root_dir + '/sample_submission.csv')\n",
    "\n",
    "# set path variables\n",
    "train_eegs = root_dir + '/train_eegs'\n",
    "train_spectrograms = root_dir + '/train_spectrograms'\n"
   ],
   "metadata": {
    "collapsed": false,
    "ExecuteTime": {
     "end_time": "2024-01-24T13:17:49.177909645Z",
     "start_time": "2024-01-24T13:17:49.127760371Z"
    }
   },
   "id": "aec74404d10d80ed"
  },
  {
   "cell_type": "markdown",
   "source": [
    "# Top level Stats"
   ],
   "metadata": {
    "collapsed": false
   },
   "id": "7583916c8900481d"
  },
  {
   "cell_type": "code",
   "execution_count": 3,
   "outputs": [
    {
     "name": "stdout",
     "output_type": "stream",
     "text": [
      "Training Data Shape: (106800, 15)\n"
     ]
    },
    {
     "data": {
      "text/plain": "       eeg_id  eeg_sub_id  eeg_label_offset_seconds  spectrogram_id  \\\n0  1628180742           0                       0.0          353733   \n1  1628180742           1                       6.0          353733   \n2  1628180742           2                       8.0          353733   \n3  1628180742           3                      18.0          353733   \n4  1628180742           4                      24.0          353733   \n\n   spectrogram_sub_id  spectrogram_label_offset_seconds    label_id  \\\n0                   0                               0.0   127492639   \n1                   1                               6.0  3887563113   \n2                   2                               8.0  1142670488   \n3                   3                              18.0  2718991173   \n4                   4                              24.0  3080632009   \n\n   patient_id expert_consensus  seizure_vote  lpd_vote  gpd_vote  lrda_vote  \\\n0       42516          Seizure             3         0         0          0   \n1       42516          Seizure             3         0         0          0   \n2       42516          Seizure             3         0         0          0   \n3       42516          Seizure             3         0         0          0   \n4       42516          Seizure             3         0         0          0   \n\n   grda_vote  other_vote  \n0          0           0  \n1          0           0  \n2          0           0  \n3          0           0  \n4          0           0  ",
      "text/html": "<div>\n<style scoped>\n    .dataframe tbody tr th:only-of-type {\n        vertical-align: middle;\n    }\n\n    .dataframe tbody tr th {\n        vertical-align: top;\n    }\n\n    .dataframe thead th {\n        text-align: right;\n    }\n</style>\n<table border=\"1\" class=\"dataframe\">\n  <thead>\n    <tr style=\"text-align: right;\">\n      <th></th>\n      <th>eeg_id</th>\n      <th>eeg_sub_id</th>\n      <th>eeg_label_offset_seconds</th>\n      <th>spectrogram_id</th>\n      <th>spectrogram_sub_id</th>\n      <th>spectrogram_label_offset_seconds</th>\n      <th>label_id</th>\n      <th>patient_id</th>\n      <th>expert_consensus</th>\n      <th>seizure_vote</th>\n      <th>lpd_vote</th>\n      <th>gpd_vote</th>\n      <th>lrda_vote</th>\n      <th>grda_vote</th>\n      <th>other_vote</th>\n    </tr>\n  </thead>\n  <tbody>\n    <tr>\n      <th>0</th>\n      <td>1628180742</td>\n      <td>0</td>\n      <td>0.0</td>\n      <td>353733</td>\n      <td>0</td>\n      <td>0.0</td>\n      <td>127492639</td>\n      <td>42516</td>\n      <td>Seizure</td>\n      <td>3</td>\n      <td>0</td>\n      <td>0</td>\n      <td>0</td>\n      <td>0</td>\n      <td>0</td>\n    </tr>\n    <tr>\n      <th>1</th>\n      <td>1628180742</td>\n      <td>1</td>\n      <td>6.0</td>\n      <td>353733</td>\n      <td>1</td>\n      <td>6.0</td>\n      <td>3887563113</td>\n      <td>42516</td>\n      <td>Seizure</td>\n      <td>3</td>\n      <td>0</td>\n      <td>0</td>\n      <td>0</td>\n      <td>0</td>\n      <td>0</td>\n    </tr>\n    <tr>\n      <th>2</th>\n      <td>1628180742</td>\n      <td>2</td>\n      <td>8.0</td>\n      <td>353733</td>\n      <td>2</td>\n      <td>8.0</td>\n      <td>1142670488</td>\n      <td>42516</td>\n      <td>Seizure</td>\n      <td>3</td>\n      <td>0</td>\n      <td>0</td>\n      <td>0</td>\n      <td>0</td>\n      <td>0</td>\n    </tr>\n    <tr>\n      <th>3</th>\n      <td>1628180742</td>\n      <td>3</td>\n      <td>18.0</td>\n      <td>353733</td>\n      <td>3</td>\n      <td>18.0</td>\n      <td>2718991173</td>\n      <td>42516</td>\n      <td>Seizure</td>\n      <td>3</td>\n      <td>0</td>\n      <td>0</td>\n      <td>0</td>\n      <td>0</td>\n      <td>0</td>\n    </tr>\n    <tr>\n      <th>4</th>\n      <td>1628180742</td>\n      <td>4</td>\n      <td>24.0</td>\n      <td>353733</td>\n      <td>4</td>\n      <td>24.0</td>\n      <td>3080632009</td>\n      <td>42516</td>\n      <td>Seizure</td>\n      <td>3</td>\n      <td>0</td>\n      <td>0</td>\n      <td>0</td>\n      <td>0</td>\n      <td>0</td>\n    </tr>\n  </tbody>\n</table>\n</div>"
     },
     "metadata": {},
     "output_type": "display_data"
    },
    {
     "name": "stdout",
     "output_type": "stream",
     "text": [
      "Test Data Shape: (1, 3)\n"
     ]
    },
    {
     "data": {
      "text/plain": "   spectrogram_id      eeg_id  patient_id\n0          853520  3911565283        6885",
      "text/html": "<div>\n<style scoped>\n    .dataframe tbody tr th:only-of-type {\n        vertical-align: middle;\n    }\n\n    .dataframe tbody tr th {\n        vertical-align: top;\n    }\n\n    .dataframe thead th {\n        text-align: right;\n    }\n</style>\n<table border=\"1\" class=\"dataframe\">\n  <thead>\n    <tr style=\"text-align: right;\">\n      <th></th>\n      <th>spectrogram_id</th>\n      <th>eeg_id</th>\n      <th>patient_id</th>\n    </tr>\n  </thead>\n  <tbody>\n    <tr>\n      <th>0</th>\n      <td>853520</td>\n      <td>3911565283</td>\n      <td>6885</td>\n    </tr>\n  </tbody>\n</table>\n</div>"
     },
     "metadata": {},
     "output_type": "display_data"
    },
    {
     "name": "stdout",
     "output_type": "stream",
     "text": [
      "Sample Submission Shape: (1, 7)\n"
     ]
    },
    {
     "data": {
      "text/plain": "       eeg_id  seizure_vote  lpd_vote  gpd_vote  lrda_vote  grda_vote  \\\n0  3911565283      0.166667  0.166667  0.166667   0.166667   0.166667   \n\n   other_vote  \n0    0.166667  ",
      "text/html": "<div>\n<style scoped>\n    .dataframe tbody tr th:only-of-type {\n        vertical-align: middle;\n    }\n\n    .dataframe tbody tr th {\n        vertical-align: top;\n    }\n\n    .dataframe thead th {\n        text-align: right;\n    }\n</style>\n<table border=\"1\" class=\"dataframe\">\n  <thead>\n    <tr style=\"text-align: right;\">\n      <th></th>\n      <th>eeg_id</th>\n      <th>seizure_vote</th>\n      <th>lpd_vote</th>\n      <th>gpd_vote</th>\n      <th>lrda_vote</th>\n      <th>grda_vote</th>\n      <th>other_vote</th>\n    </tr>\n  </thead>\n  <tbody>\n    <tr>\n      <th>0</th>\n      <td>3911565283</td>\n      <td>0.166667</td>\n      <td>0.166667</td>\n      <td>0.166667</td>\n      <td>0.166667</td>\n      <td>0.166667</td>\n      <td>0.166667</td>\n    </tr>\n  </tbody>\n</table>\n</div>"
     },
     "metadata": {},
     "output_type": "display_data"
    }
   ],
   "source": [
    "# print all sets - assuming train,test, ss\n",
    "print(f'Training Data Shape: {train.shape}')\n",
    "display(train.head())\n",
    "print(f'Test Data Shape: {test.shape}')\n",
    "display(test.head())\n",
    "print(f'Sample Submission Shape: {ss.shape}')\n",
    "display(ss.head())"
   ],
   "metadata": {
    "collapsed": false,
    "ExecuteTime": {
     "end_time": "2024-01-24T13:17:50.143505150Z",
     "start_time": "2024-01-24T13:17:50.132236203Z"
    }
   },
   "id": "7fd59190d40aed48"
  },
  {
   "cell_type": "markdown",
   "source": [
    "## Target Variable"
   ],
   "metadata": {
    "collapsed": false
   },
   "id": "6948c4c284050267"
  },
  {
   "cell_type": "code",
   "execution_count": 4,
   "outputs": [
    {
     "name": "stdout",
     "output_type": "stream",
     "text": [
      "['seizure_vote', 'lpd_vote', 'gpd_vote', 'lrda_vote', 'grda_vote', 'other_vote']\n"
     ]
    }
   ],
   "source": [
    "targets = [col for col in train.columns if '_vote' in col]\n",
    "print(targets)"
   ],
   "metadata": {
    "collapsed": false,
    "ExecuteTime": {
     "end_time": "2024-01-24T13:17:51.550616704Z",
     "start_time": "2024-01-24T13:17:51.520454630Z"
    }
   },
   "id": "76f6b252b87a462c"
  },
  {
   "cell_type": "code",
   "execution_count": 5,
   "outputs": [
    {
     "data": {
      "text/plain": "<Figure size 350x262.5 with 1 Axes>",
      "image/png": "[encoded data removed]"
     },
     "metadata": {},
     "output_type": "display_data"
    }
   ],
   "source": [
    "# create a total vote column which is the sum of all the target votes\n",
    "train['total_votes'] = train[targets].sum(axis=1)\n",
    "train.total_votes.plot(kind='hist',bins=20)\n",
    "plt.title('Distribution of Total Votes');"
   ],
   "metadata": {
    "collapsed": false,
    "ExecuteTime": {
     "end_time": "2024-01-24T13:17:52.947838907Z",
     "start_time": "2024-01-24T13:17:52.646433110Z"
    }
   },
   "id": "bfdc755f91fe5960"
  },
  {
   "cell_type": "code",
   "execution_count": 6,
   "outputs": [
    {
     "data": {
      "text/plain": "       eeg_id  eeg_sub_id  eeg_label_offset_seconds  spectrogram_id  \\\n0  1628180742           0                       0.0          353733   \n1  1628180742           1                       6.0          353733   \n2  1628180742           2                       8.0          353733   \n3  1628180742           3                      18.0          353733   \n4  1628180742           4                      24.0          353733   \n\n   spectrogram_sub_id  spectrogram_label_offset_seconds    label_id  \\\n0                   0                               0.0   127492639   \n1                   1                               6.0  3887563113   \n2                   2                               8.0  1142670488   \n3                   3                              18.0  2718991173   \n4                   4                              24.0  3080632009   \n\n   patient_id expert_consensus  seizure_vote  lpd_vote  gpd_vote  lrda_vote  \\\n0       42516          Seizure           1.0       0.0       0.0        0.0   \n1       42516          Seizure           1.0       0.0       0.0        0.0   \n2       42516          Seizure           1.0       0.0       0.0        0.0   \n3       42516          Seizure           1.0       0.0       0.0        0.0   \n4       42516          Seizure           1.0       0.0       0.0        0.0   \n\n   grda_vote  other_vote  total_votes  \n0        0.0         0.0            3  \n1        0.0         0.0            3  \n2        0.0         0.0            3  \n3        0.0         0.0            3  \n4        0.0         0.0            3  ",
      "text/html": "<div>\n<style scoped>\n    .dataframe tbody tr th:only-of-type {\n        vertical-align: middle;\n    }\n\n    .dataframe tbody tr th {\n        vertical-align: top;\n    }\n\n    .dataframe thead th {\n        text-align: right;\n    }\n</style>\n<table border=\"1\" class=\"dataframe\">\n  <thead>\n    <tr style=\"text-align: right;\">\n      <th></th>\n      <th>eeg_id</th>\n      <th>eeg_sub_id</th>\n      <th>eeg_label_offset_seconds</th>\n      <th>spectrogram_id</th>\n      <th>spectrogram_sub_id</th>\n      <th>spectrogram_label_offset_seconds</th>\n      <th>label_id</th>\n      <th>patient_id</th>\n      <th>expert_consensus</th>\n      <th>seizure_vote</th>\n      <th>lpd_vote</th>\n      <th>gpd_vote</th>\n      <th>lrda_vote</th>\n      <th>grda_vote</th>\n      <th>other_vote</th>\n      <th>total_votes</th>\n    </tr>\n  </thead>\n  <tbody>\n    <tr>\n      <th>0</th>\n      <td>1628180742</td>\n      <td>0</td>\n      <td>0.0</td>\n      <td>353733</td>\n      <td>0</td>\n      <td>0.0</td>\n      <td>127492639</td>\n      <td>42516</td>\n      <td>Seizure</td>\n      <td>1.0</td>\n      <td>0.0</td>\n      <td>0.0</td>\n      <td>0.0</td>\n      <td>0.0</td>\n      <td>0.0</td>\n      <td>3</td>\n    </tr>\n    <tr>\n      <th>1</th>\n      <td>1628180742</td>\n      <td>1</td>\n      <td>6.0</td>\n      <td>353733</td>\n      <td>1</td>\n      <td>6.0</td>\n      <td>3887563113</td>\n      <td>42516</td>\n      <td>Seizure</td>\n      <td>1.0</td>\n      <td>0.0</td>\n      <td>0.0</td>\n      <td>0.0</td>\n      <td>0.0</td>\n      <td>0.0</td>\n      <td>3</td>\n    </tr>\n    <tr>\n      <th>2</th>\n      <td>1628180742</td>\n      <td>2</td>\n      <td>8.0</td>\n      <td>353733</td>\n      <td>2</td>\n      <td>8.0</td>\n      <td>1142670488</td>\n      <td>42516</td>\n      <td>Seizure</td>\n      <td>1.0</td>\n      <td>0.0</td>\n      <td>0.0</td>\n      <td>0.0</td>\n      <td>0.0</td>\n      <td>0.0</td>\n      <td>3</td>\n    </tr>\n    <tr>\n      <th>3</th>\n      <td>1628180742</td>\n      <td>3</td>\n      <td>18.0</td>\n      <td>353733</td>\n      <td>3</td>\n      <td>18.0</td>\n      <td>2718991173</td>\n      <td>42516</td>\n      <td>Seizure</td>\n      <td>1.0</td>\n      <td>0.0</td>\n      <td>0.0</td>\n      <td>0.0</td>\n      <td>0.0</td>\n      <td>0.0</td>\n      <td>3</td>\n    </tr>\n    <tr>\n      <th>4</th>\n      <td>1628180742</td>\n      <td>4</td>\n      <td>24.0</td>\n      <td>353733</td>\n      <td>4</td>\n      <td>24.0</td>\n      <td>3080632009</td>\n      <td>42516</td>\n      <td>Seizure</td>\n      <td>1.0</td>\n      <td>0.0</td>\n      <td>0.0</td>\n      <td>0.0</td>\n      <td>0.0</td>\n      <td>0.0</td>\n      <td>3</td>\n    </tr>\n  </tbody>\n</table>\n</div>"
     },
     "execution_count": 6,
     "metadata": {},
     "output_type": "execute_result"
    }
   ],
   "source": [
    "# divide all the targets by the total votes to get a normalized vote\n",
    "for target in targets:\n",
    "    train[target] = train[target] / train['total_votes']\n",
    "train.head()"
   ],
   "metadata": {
    "collapsed": false,
    "ExecuteTime": {
     "end_time": "2024-01-24T13:17:53.612616826Z",
     "start_time": "2024-01-24T13:17:53.591737391Z"
    }
   },
   "id": "38ae325f026c009f"
  },
  {
   "cell_type": "markdown",
   "source": [
    "# Groupby spectrogram_id and keep only first row\n",
    "* later will use the individual spectrogram sub_id's\n"
   ],
   "metadata": {
    "collapsed": false
   },
   "id": "3cf46ae3e2383a6b"
  },
  {
   "cell_type": "code",
   "execution_count": 7,
   "outputs": [
    {
     "data": {
      "text/plain": "   spectrogram_id      eeg_id  eeg_sub_id  eeg_label_offset_seconds  \\\n0          353733  1628180742           0                       0.0   \n1          924234  2277392603           0                       0.0   \n2          999431   722738444           0                       0.0   \n3         1084844   387987538           0                       0.0   \n4         1219001  2175806584           0                       0.0   \n\n   spectrogram_sub_id  spectrogram_label_offset_seconds    label_id  \\\n0                   0                               0.0   127492639   \n1                   0                               0.0  1978807404   \n2                   0                               0.0   557980729   \n3                   0                               0.0  4099147263   \n4                   0                               0.0  1963161945   \n\n   patient_id expert_consensus  seizure_vote  lpd_vote  gpd_vote  lrda_vote  \\\n0       42516          Seizure           1.0    0.0000  0.000000      0.000   \n1       30539              GPD           0.0    0.0000  0.454545      0.000   \n2       56885             LRDA           0.0    0.0625  0.000000      0.875   \n3        4264             LRDA           0.0    0.0000  0.000000      1.000   \n4       23435          Seizure           1.0    0.0000  0.000000      0.000   \n\n   grda_vote  other_vote  total_votes  \n0   0.000000    0.000000            3  \n1   0.090909    0.454545           11  \n2   0.000000    0.062500           16  \n3   0.000000    0.000000            3  \n4   0.000000    0.000000            3  ",
      "text/html": "<div>\n<style scoped>\n    .dataframe tbody tr th:only-of-type {\n        vertical-align: middle;\n    }\n\n    .dataframe tbody tr th {\n        vertical-align: top;\n    }\n\n    .dataframe thead th {\n        text-align: right;\n    }\n</style>\n<table border=\"1\" class=\"dataframe\">\n  <thead>\n    <tr style=\"text-align: right;\">\n      <th></th>\n      <th>spectrogram_id</th>\n      <th>eeg_id</th>\n      <th>eeg_sub_id</th>\n      <th>eeg_label_offset_seconds</th>\n      <th>spectrogram_sub_id</th>\n      <th>spectrogram_label_offset_seconds</th>\n      <th>label_id</th>\n      <th>patient_id</th>\n      <th>expert_consensus</th>\n      <th>seizure_vote</th>\n      <th>lpd_vote</th>\n      <th>gpd_vote</th>\n      <th>lrda_vote</th>\n      <th>grda_vote</th>\n      <th>other_vote</th>\n      <th>total_votes</th>\n    </tr>\n  </thead>\n  <tbody>\n    <tr>\n      <th>0</th>\n      <td>353733</td>\n      <td>1628180742</td>\n      <td>0</td>\n      <td>0.0</td>\n      <td>0</td>\n      <td>0.0</td>\n      <td>127492639</td>\n      <td>42516</td>\n      <td>Seizure</td>\n      <td>1.0</td>\n      <td>0.0000</td>\n      <td>0.000000</td>\n      <td>0.000</td>\n      <td>0.000000</td>\n      <td>0.000000</td>\n      <td>3</td>\n    </tr>\n    <tr>\n      <th>1</th>\n      <td>924234</td>\n      <td>2277392603</td>\n      <td>0</td>\n      <td>0.0</td>\n      <td>0</td>\n      <td>0.0</td>\n      <td>1978807404</td>\n      <td>30539</td>\n      <td>GPD</td>\n      <td>0.0</td>\n      <td>0.0000</td>\n      <td>0.454545</td>\n      <td>0.000</td>\n      <td>0.090909</td>\n      <td>0.454545</td>\n      <td>11</td>\n    </tr>\n    <tr>\n      <th>2</th>\n      <td>999431</td>\n      <td>722738444</td>\n      <td>0</td>\n      <td>0.0</td>\n      <td>0</td>\n      <td>0.0</td>\n      <td>557980729</td>\n      <td>56885</td>\n      <td>LRDA</td>\n      <td>0.0</td>\n      <td>0.0625</td>\n      <td>0.000000</td>\n      <td>0.875</td>\n      <td>0.000000</td>\n      <td>0.062500</td>\n      <td>16</td>\n    </tr>\n    <tr>\n      <th>3</th>\n      <td>1084844</td>\n      <td>387987538</td>\n      <td>0</td>\n      <td>0.0</td>\n      <td>0</td>\n      <td>0.0</td>\n      <td>4099147263</td>\n      <td>4264</td>\n      <td>LRDA</td>\n      <td>0.0</td>\n      <td>0.0000</td>\n      <td>0.000000</td>\n      <td>1.000</td>\n      <td>0.000000</td>\n      <td>0.000000</td>\n      <td>3</td>\n    </tr>\n    <tr>\n      <th>4</th>\n      <td>1219001</td>\n      <td>2175806584</td>\n      <td>0</td>\n      <td>0.0</td>\n      <td>0</td>\n      <td>0.0</td>\n      <td>1963161945</td>\n      <td>23435</td>\n      <td>Seizure</td>\n      <td>1.0</td>\n      <td>0.0000</td>\n      <td>0.000000</td>\n      <td>0.000</td>\n      <td>0.000000</td>\n      <td>0.000000</td>\n      <td>3</td>\n    </tr>\n  </tbody>\n</table>\n</div>"
     },
     "execution_count": 7,
     "metadata": {},
     "output_type": "execute_result"
    }
   ],
   "source": [
    "# groupby spectrogram_id and keep only first row\n",
    "train_unique = train.groupby('spectrogram_id').first().reset_index()\n",
    "train_unique.head()"
   ],
   "metadata": {
    "collapsed": false,
    "ExecuteTime": {
     "end_time": "2024-01-24T13:18:07.930894922Z",
     "start_time": "2024-01-24T13:18:07.892865643Z"
    }
   },
   "id": "f818d60b3d79cd11"
  },
  {
   "cell_type": "code",
   "execution_count": 8,
   "outputs": [
    {
     "data": {
      "text/plain": "11138"
     },
     "execution_count": 8,
     "metadata": {},
     "output_type": "execute_result"
    }
   ],
   "source": [
    "len(train_unique)"
   ],
   "metadata": {
    "collapsed": false,
    "ExecuteTime": {
     "end_time": "2024-01-24T13:18:10.455431592Z",
     "start_time": "2024-01-24T13:18:10.440624413Z"
    }
   },
   "id": "7ba25937849a9bf"
  },
  {
   "cell_type": "code",
   "execution_count": 9,
   "outputs": [
    {
     "data": {
      "text/plain": "True"
     },
     "execution_count": 9,
     "metadata": {},
     "output_type": "execute_result"
    }
   ],
   "source": [
    "# use glob to make a list of files in the spectrogram directory and verify same number\n",
    "spectrograms = glob.glob(train_spectrograms + '/*.parquet')\n",
    "len(spectrograms) == len(train_unique)\n"
   ],
   "metadata": {
    "collapsed": false,
    "ExecuteTime": {
     "end_time": "2024-01-24T13:18:10.862420497Z",
     "start_time": "2024-01-24T13:18:10.829312752Z"
    }
   },
   "id": "c661eb97c9430c6e"
  },
  {
   "cell_type": "markdown",
   "source": [
    "# Drop total_votes column"
   ],
   "metadata": {
    "collapsed": false
   },
   "id": "d31551eff8b64528"
  },
  {
   "cell_type": "code",
   "execution_count": 10,
   "outputs": [],
   "source": [
    "# drop total_votes column from train_unique\n",
    "train_unique.drop('total_votes',axis=1,inplace=True)"
   ],
   "metadata": {
    "collapsed": false,
    "ExecuteTime": {
     "end_time": "2024-01-24T13:18:13.572535257Z",
     "start_time": "2024-01-24T13:18:13.565809898Z"
    }
   },
   "id": "14236b336749ca17"
  },
  {
   "cell_type": "markdown",
   "source": [
    "# Open a spectrogram file\n",
    "* Look at format of spectrogram files\n"
   ],
   "metadata": {
    "collapsed": false
   },
   "id": "2a3b31f5177d8f87"
  },
  {
   "cell_type": "code",
   "execution_count": 11,
   "outputs": [
    {
     "name": "stdout",
     "output_type": "stream",
     "text": [
      "Spectrogram shape: (303, 401)\n"
     ]
    },
    {
     "data": {
      "text/plain": "   time    LL_0.59    LL_0.78  LL_0.98    LL_1.17  LL_1.37  LL_1.56  LL_1.76  \\\n0     1   5.390000  10.440000    10.29  12.180000    10.41     5.68     7.41   \n1     3  11.600000  12.680000    15.70  14.700000     6.73     8.08     5.48   \n2     5  16.940001  18.510000    20.15  15.470000     8.15     6.90     4.28   \n3     7  12.800000  17.450001    17.24  13.750000    15.26    12.70    13.33   \n4     9  12.890000  21.070000    23.57  22.290001    19.98    12.38    10.68   \n\n   LL_1.95  LL_2.15  LL_2.34  LL_2.54  LL_2.73  LL_2.93  LL_3.13  LL_3.32  \\\n0     7.19     6.11     7.40     4.41     3.87     3.14     2.36     2.21   \n1     5.56     4.89     2.71     2.53     1.94     2.00     1.92     1.42   \n2     5.08     3.90     3.08     2.83     1.69     1.35     1.25     1.08   \n3    11.31     7.10     5.84     2.24     2.68     1.77     1.71     1.86   \n4    10.37     8.74     3.39     3.12     1.80     1.24     2.20     1.38   \n\n   LL_3.52  LL_3.71  LL_3.91  LL_4.1  LL_4.3  LL_4.49  LL_4.69  LL_4.88  \\\n0     2.04     1.61     1.23    1.49    1.33     1.33     1.23     0.52   \n1     1.06     0.98     0.68    0.46    0.50     0.51     0.35     0.37   \n2     0.83     0.66     0.56    0.39    0.39     0.37     0.48     0.27   \n3     1.13     1.11     1.38    1.33    1.23     1.05     0.85     0.62   \n4     1.30     1.96     1.46    1.72    1.60     0.96     1.03     1.19   \n\n   LL_5.08  ...  RP_15.23  RP_15.43  RP_15.63  RP_15.82  RP_16.02  RP_16.21  \\\n0     0.70  ...      0.17      0.19      0.18      0.22      0.30      0.34   \n1     0.25  ...      0.26      0.26      0.42      0.38      0.39      0.61   \n2     0.33  ...      0.25      0.31      0.31      0.20      0.26      0.30   \n3     0.54  ...      0.22      0.16      0.11      0.18      0.13      0.15   \n4     0.78  ...      0.28      0.31      0.26      0.27      0.23      0.21   \n\n   RP_16.41  RP_16.6  RP_16.8  RP_16.99  RP_17.19  RP_17.38  RP_17.58  \\\n0      0.28     0.27     0.21      0.14      0.11      0.11      0.11   \n1      0.55     0.53     0.52      0.34      0.14      0.15      0.18   \n2      0.34     0.42     0.47      0.28      0.23      0.19      0.12   \n3      0.13     0.17     0.19      0.12      0.24      0.18      0.18   \n4      0.26     0.22     0.24      0.28      0.23      0.15      0.14   \n\n   RP_17.77  RP_17.97  RP_18.16  RP_18.36  RP_18.55  RP_18.75  RP_18.95  \\\n0      0.12      0.16      0.15      0.14      0.15      0.11      0.12   \n1      0.22      0.26      0.30      0.18      0.13      0.11      0.13   \n2      0.27      0.23      0.28      0.26      0.15      0.15      0.12   \n3      0.31      0.18      0.37      0.35      0.21      0.34      0.23   \n4      0.24      0.20      0.25      0.26      0.18      0.12      0.13   \n\n   RP_19.14  RP_19.34  RP_19.53  RP_19.73  RP_19.92  \n0      0.23      0.32      0.28      0.31      0.26  \n1      0.11      0.14      0.15      0.08      0.11  \n2      0.13      0.13      0.12      0.10      0.11  \n3      0.19      0.18      0.12      0.10      0.15  \n4      0.11      0.11      0.14      0.15      0.17  \n\n[5 rows x 401 columns]",
      "text/html": "<div>\n<style scoped>\n    .dataframe tbody tr th:only-of-type {\n        vertical-align: middle;\n    }\n\n    .dataframe tbody tr th {\n        vertical-align: top;\n    }\n\n    .dataframe thead th {\n        text-align: right;\n    }\n</style>\n<table border=\"1\" class=\"dataframe\">\n  <thead>\n    <tr style=\"text-align: right;\">\n      <th></th>\n      <th>time</th>\n      <th>LL_0.59</th>\n      <th>LL_0.78</th>\n      <th>LL_0.98</th>\n      <th>LL_1.17</th>\n      <th>LL_1.37</th>\n      <th>LL_1.56</th>\n      <th>LL_1.76</th>\n      <th>LL_1.95</th>\n      <th>LL_2.15</th>\n      <th>LL_2.34</th>\n      <th>LL_2.54</th>\n      <th>LL_2.73</th>\n      <th>LL_2.93</th>\n      <th>LL_3.13</th>\n      <th>LL_3.32</th>\n      <th>LL_3.52</th>\n      <th>LL_3.71</th>\n      <th>LL_3.91</th>\n      <th>LL_4.1</th>\n      <th>LL_4.3</th>\n      <th>LL_4.49</th>\n      <th>LL_4.69</th>\n      <th>LL_4.88</th>\n      <th>LL_5.08</th>\n      <th>...</th>\n      <th>RP_15.23</th>\n      <th>RP_15.43</th>\n      <th>RP_15.63</th>\n      <th>RP_15.82</th>\n      <th>RP_16.02</th>\n      <th>RP_16.21</th>\n      <th>RP_16.41</th>\n      <th>RP_16.6</th>\n      <th>RP_16.8</th>\n      <th>RP_16.99</th>\n      <th>RP_17.19</th>\n      <th>RP_17.38</th>\n      <th>RP_17.58</th>\n      <th>RP_17.77</th>\n      <th>RP_17.97</th>\n      <th>RP_18.16</th>\n      <th>RP_18.36</th>\n      <th>RP_18.55</th>\n      <th>RP_18.75</th>\n      <th>RP_18.95</th>\n      <th>RP_19.14</th>\n      <th>RP_19.34</th>\n      <th>RP_19.53</th>\n      <th>RP_19.73</th>\n      <th>RP_19.92</th>\n    </tr>\n  </thead>\n  <tbody>\n    <tr>\n      <th>0</th>\n      <td>1</td>\n      <td>5.390000</td>\n      <td>10.440000</td>\n      <td>10.29</td>\n      <td>12.180000</td>\n      <td>10.41</td>\n      <td>5.68</td>\n      <td>7.41</td>\n      <td>7.19</td>\n      <td>6.11</td>\n      <td>7.40</td>\n      <td>4.41</td>\n      <td>3.87</td>\n      <td>3.14</td>\n      <td>2.36</td>\n      <td>2.21</td>\n      <td>2.04</td>\n      <td>1.61</td>\n      <td>1.23</td>\n      <td>1.49</td>\n      <td>1.33</td>\n      <td>1.33</td>\n      <td>1.23</td>\n      <td>0.52</td>\n      <td>0.70</td>\n      <td>...</td>\n      <td>0.17</td>\n      <td>0.19</td>\n      <td>0.18</td>\n      <td>0.22</td>\n      <td>0.30</td>\n      <td>0.34</td>\n      <td>0.28</td>\n      <td>0.27</td>\n      <td>0.21</td>\n      <td>0.14</td>\n      <td>0.11</td>\n      <td>0.11</td>\n      <td>0.11</td>\n      <td>0.12</td>\n      <td>0.16</td>\n      <td>0.15</td>\n      <td>0.14</td>\n      <td>0.15</td>\n      <td>0.11</td>\n      <td>0.12</td>\n      <td>0.23</td>\n      <td>0.32</td>\n      <td>0.28</td>\n      <td>0.31</td>\n      <td>0.26</td>\n    </tr>\n    <tr>\n      <th>1</th>\n      <td>3</td>\n      <td>11.600000</td>\n      <td>12.680000</td>\n      <td>15.70</td>\n      <td>14.700000</td>\n      <td>6.73</td>\n      <td>8.08</td>\n      <td>5.48</td>\n      <td>5.56</td>\n      <td>4.89</td>\n      <td>2.71</td>\n      <td>2.53</td>\n      <td>1.94</td>\n      <td>2.00</td>\n      <td>1.92</td>\n      <td>1.42</td>\n      <td>1.06</td>\n      <td>0.98</td>\n      <td>0.68</td>\n      <td>0.46</td>\n      <td>0.50</td>\n      <td>0.51</td>\n      <td>0.35</td>\n      <td>0.37</td>\n      <td>0.25</td>\n      <td>...</td>\n      <td>0.26</td>\n      <td>0.26</td>\n      <td>0.42</td>\n      <td>0.38</td>\n      <td>0.39</td>\n      <td>0.61</td>\n      <td>0.55</td>\n      <td>0.53</td>\n      <td>0.52</td>\n      <td>0.34</td>\n      <td>0.14</td>\n      <td>0.15</td>\n      <td>0.18</td>\n      <td>0.22</td>\n      <td>0.26</td>\n      <td>0.30</td>\n      <td>0.18</td>\n      <td>0.13</td>\n      <td>0.11</td>\n      <td>0.13</td>\n      <td>0.11</td>\n      <td>0.14</td>\n      <td>0.15</td>\n      <td>0.08</td>\n      <td>0.11</td>\n    </tr>\n    <tr>\n      <th>2</th>\n      <td>5</td>\n      <td>16.940001</td>\n      <td>18.510000</td>\n      <td>20.15</td>\n      <td>15.470000</td>\n      <td>8.15</td>\n      <td>6.90</td>\n      <td>4.28</td>\n      <td>5.08</td>\n      <td>3.90</td>\n      <td>3.08</td>\n      <td>2.83</td>\n      <td>1.69</td>\n      <td>1.35</td>\n      <td>1.25</td>\n      <td>1.08</td>\n      <td>0.83</td>\n      <td>0.66</td>\n      <td>0.56</td>\n      <td>0.39</td>\n      <td>0.39</td>\n      <td>0.37</td>\n      <td>0.48</td>\n      <td>0.27</td>\n      <td>0.33</td>\n      <td>...</td>\n      <td>0.25</td>\n      <td>0.31</td>\n      <td>0.31</td>\n      <td>0.20</td>\n      <td>0.26</td>\n      <td>0.30</td>\n      <td>0.34</td>\n      <td>0.42</td>\n      <td>0.47</td>\n      <td>0.28</td>\n      <td>0.23</td>\n      <td>0.19</td>\n      <td>0.12</td>\n      <td>0.27</td>\n      <td>0.23</td>\n      <td>0.28</td>\n      <td>0.26</td>\n      <td>0.15</td>\n      <td>0.15</td>\n      <td>0.12</td>\n      <td>0.13</td>\n      <td>0.13</td>\n      <td>0.12</td>\n      <td>0.10</td>\n      <td>0.11</td>\n    </tr>\n    <tr>\n      <th>3</th>\n      <td>7</td>\n      <td>12.800000</td>\n      <td>17.450001</td>\n      <td>17.24</td>\n      <td>13.750000</td>\n      <td>15.26</td>\n      <td>12.70</td>\n      <td>13.33</td>\n      <td>11.31</td>\n      <td>7.10</td>\n      <td>5.84</td>\n      <td>2.24</td>\n      <td>2.68</td>\n      <td>1.77</td>\n      <td>1.71</td>\n      <td>1.86</td>\n      <td>1.13</td>\n      <td>1.11</td>\n      <td>1.38</td>\n      <td>1.33</td>\n      <td>1.23</td>\n      <td>1.05</td>\n      <td>0.85</td>\n      <td>0.62</td>\n      <td>0.54</td>\n      <td>...</td>\n      <td>0.22</td>\n      <td>0.16</td>\n      <td>0.11</td>\n      <td>0.18</td>\n      <td>0.13</td>\n      <td>0.15</td>\n      <td>0.13</td>\n      <td>0.17</td>\n      <td>0.19</td>\n      <td>0.12</td>\n      <td>0.24</td>\n      <td>0.18</td>\n      <td>0.18</td>\n      <td>0.31</td>\n      <td>0.18</td>\n      <td>0.37</td>\n      <td>0.35</td>\n      <td>0.21</td>\n      <td>0.34</td>\n      <td>0.23</td>\n      <td>0.19</td>\n      <td>0.18</td>\n      <td>0.12</td>\n      <td>0.10</td>\n      <td>0.15</td>\n    </tr>\n    <tr>\n      <th>4</th>\n      <td>9</td>\n      <td>12.890000</td>\n      <td>21.070000</td>\n      <td>23.57</td>\n      <td>22.290001</td>\n      <td>19.98</td>\n      <td>12.38</td>\n      <td>10.68</td>\n      <td>10.37</td>\n      <td>8.74</td>\n      <td>3.39</td>\n      <td>3.12</td>\n      <td>1.80</td>\n      <td>1.24</td>\n      <td>2.20</td>\n      <td>1.38</td>\n      <td>1.30</td>\n      <td>1.96</td>\n      <td>1.46</td>\n      <td>1.72</td>\n      <td>1.60</td>\n      <td>0.96</td>\n      <td>1.03</td>\n      <td>1.19</td>\n      <td>0.78</td>\n      <td>...</td>\n      <td>0.28</td>\n      <td>0.31</td>\n      <td>0.26</td>\n      <td>0.27</td>\n      <td>0.23</td>\n      <td>0.21</td>\n      <td>0.26</td>\n      <td>0.22</td>\n      <td>0.24</td>\n      <td>0.28</td>\n      <td>0.23</td>\n      <td>0.15</td>\n      <td>0.14</td>\n      <td>0.24</td>\n      <td>0.20</td>\n      <td>0.25</td>\n      <td>0.26</td>\n      <td>0.18</td>\n      <td>0.12</td>\n      <td>0.13</td>\n      <td>0.11</td>\n      <td>0.11</td>\n      <td>0.14</td>\n      <td>0.15</td>\n      <td>0.17</td>\n    </tr>\n  </tbody>\n</table>\n<p>5 rows × 401 columns</p>\n</div>"
     },
     "execution_count": 11,
     "metadata": {},
     "output_type": "execute_result"
    }
   ],
   "source": [
    "# open the first spectrogram file\n",
    "spect1 = pd.read_parquet(spectrograms[0])\n",
    "print(f'Spectrogram shape: {spect1.shape}')\n",
    "spect1.head()"
   ],
   "metadata": {
    "collapsed": false,
    "ExecuteTime": {
     "end_time": "2024-01-24T13:18:43.784617109Z",
     "start_time": "2024-01-24T13:18:43.715665679Z"
    }
   },
   "id": "9e86ddb3be2f53f3"
  },
  {
   "cell_type": "markdown",
   "source": [
    "## Convert to 2d numpy array, normalize between 0 and 1, and plot"
   ],
   "metadata": {
    "collapsed": false
   },
   "id": "ac8b32eae99484d1"
  },
  {
   "cell_type": "code",
   "execution_count": 12,
   "outputs": [
    {
     "ename": "NameError",
     "evalue": "name 'df' is not defined",
     "output_type": "error",
     "traceback": [
      "\u001B[0;31m---------------------------------------------------------------------------\u001B[0m",
      "\u001B[0;31mNameError\u001B[0m                                 Traceback (most recent call last)",
      "Cell \u001B[0;32mIn[12], line 1\u001B[0m\n\u001B[0;32m----> 1\u001B[0m spectrogram \u001B[38;5;241m=\u001B[39m \u001B[43mdf\u001B[49m\u001B[38;5;241m.\u001B[39mvalues \u001B[38;5;241m/\u001B[39m df\u001B[38;5;241m.\u001B[39mvalues\u001B[38;5;241m.\u001B[39mmax()\n\u001B[1;32m      2\u001B[0m plt\u001B[38;5;241m.\u001B[39mimshow(np\u001B[38;5;241m.\u001B[39mlog(spectrogram),cmap\u001B[38;5;241m=\u001B[39m\u001B[38;5;124m'\u001B[39m\u001B[38;5;124mviridis\u001B[39m\u001B[38;5;124m'\u001B[39m)\n\u001B[1;32m      3\u001B[0m plt\u001B[38;5;241m.\u001B[39mtitle(\u001B[38;5;124m'\u001B[39m\u001B[38;5;124mSpectrogram\u001B[39m\u001B[38;5;124m'\u001B[39m);\n",
      "\u001B[0;31mNameError\u001B[0m: name 'df' is not defined"
     ]
    }
   ],
   "source": [
    "spectrogram = df.values / df.values.max()\n",
    "plt.imshow(np.log(spectrogram),cmap='viridis')\n",
    "plt.title('Spectrogram');"
   ],
   "metadata": {
    "collapsed": false,
    "ExecuteTime": {
     "end_time": "2024-01-24T13:18:45.638164074Z",
     "start_time": "2024-01-24T13:18:45.527791377Z"
    }
   },
   "id": "60697ce155bc8c21"
  },
  {
   "cell_type": "code",
   "execution_count": 13,
   "outputs": [
    {
     "name": "stdout",
     "output_type": "stream",
     "text": [
      "LL cols: 100\n",
      "LP cols: 100\n",
      "RL cols: 100\n",
      "RP cols: 100\n"
     ]
    }
   ],
   "source": [
    "# how many columns have 'LL', 'LR', etc. in them?\n",
    "print(f'LL cols: {len([col for col in spect1.columns if \"LL\" in col])}')\n",
    "print(f'LP cols: {len([col for col in spect1.columns if \"LP\" in col])}')\n",
    "print(f'RL cols: {len([col for col in spect1.columns if \"RL\" in col])}')\n",
    "print(f'RP cols: {len([col for col in spect1.columns if \"LP\" in col])}')"
   ],
   "metadata": {
    "collapsed": false,
    "ExecuteTime": {
     "end_time": "2024-01-24T13:18:46.393647255Z",
     "start_time": "2024-01-24T13:18:46.335795494Z"
    }
   },
   "id": "5390d3d8a895e72e"
  },
  {
   "cell_type": "markdown",
   "source": [
    "### Takeaways\n",
    "* Have 1 time column and 100 columns each for LL, LP, RL, RP\n",
    "* Try both training on single image and splitting into 4 separate images"
   ],
   "metadata": {
    "collapsed": false
   },
   "id": "76c8ca32afb11ea8"
  },
  {
   "cell_type": "code",
   "execution_count": 95,
   "outputs": [],
   "source": [
    "# create a new subdirectory called /spectrograms if it doesn't exist\n",
    "if not os.path.exists('./spectrograms'):\n",
    "    os.mkdir('./spectrograms')\n"
   ],
   "metadata": {
    "collapsed": false,
    "ExecuteTime": {
     "start_time": "2024-01-24T10:24:59.920289999Z"
    }
   },
   "id": "4ef084ee2a50e65"
  },
  {
   "cell_type": "code",
   "execution_count": 15,
   "outputs": [
    {
     "name": "stderr",
     "output_type": "stream",
     "text": [
      "100%|██████████| 11138/11138 [02:10<00:00, 85.38it/s]\n"
     ]
    },
    {
     "data": {
      "text/plain": "<Figure size 1500x1000 with 12 Axes>",
      "image/png": "[encoded data removed]"
     },
     "metadata": {},
     "output_type": "display_data"
    }
   ],
   "source": [
    "# loop throuth first 12 spectrograms and plot\n",
    "# fig,ax = plt.subplots(3,4,figsize=(15,10))\n",
    "# ax = ax.flatten()\n",
    "for i in tqdm(range(len(spectrograms))):\n",
    "    df = pd.read_parquet(spectrograms[i])\n",
    "    # get the name of the spectrogram file\n",
    "    spect_id = int(spectrograms[i].split('/')[-1].split('.')[0])\n",
    "    consensus = train_unique[train_unique.spectrogram_id == spect_id].expert_consensus.values[0]\n",
    "    # normalize the spectrogram between 0 and 1\n",
    "    spectrogram = df.values / df.values.max()\n",
    "    # swap x and y axis\n",
    "    spectrogram = spectrogram.T\n",
    "    # replace 0 values with 10e-9\n",
    "    spectrogram = np.where(spectrogram == 0, 10e-9,spectrogram)\n",
    "    # take the log of the spectrogram\n",
    "    spectrogram = np.log(spectrogram)\n",
    "    # make minimum value 0\n",
    "    spectrogram = spectrogram + np.abs(np.min(spectrogram))\n",
    "    # scale the spectrogram to have a max of 255\n",
    "    spectrogram = 255 * (spectrogram / spectrogram.max())\n",
    "    # convert to uint8\n",
    "    spectrogram = spectrogram.astype(np.uint8)\n",
    "    # save the spectrogram as a png file in the folder /spectrograms\n",
    "    #plt.imsave(f'spectrograms/{spect_id}.png',spectrogram,cmap='viridis')\n",
    "    cv2.imwrite(f'spectrograms/{spect_id}.png',spectrogram)\n",
    "#     ax[i].imshow(spectrogram,cmap='viridis')\n",
    "#     ax[i].set_title(f\"{spectrograms[i].split('/')[-1].split('.')[0]}, {consensus}\")\n",
    "# plt.tight_layout();\n"
   ],
   "metadata": {
    "collapsed": false,
    "ExecuteTime": {
     "end_time": "2024-01-24T13:22:31.141046657Z",
     "start_time": "2024-01-24T13:20:19.537948788Z"
    }
   },
   "id": "68dad8006bec7702"
  },
  {
   "cell_type": "markdown",
   "source": [],
   "metadata": {
    "collapsed": false
   },
   "id": "68356213676fbe1"
  },
  {
   "cell_type": "code",
   "execution_count": 17,
   "outputs": [],
   "source": [
    "# define process\n",
    "\n",
    "# print(f'max, min of df: {df.values.max()}, {df.values.min()}')\n",
    "# # normalize the values of df between 0 and 1\n",
    "# spectrogram = df.values / df.values.max()\n",
    "# print(f'max, min of df: {spectrogram.max()}, {spectrogram.min()}')\n",
    "# \n",
    "# spectrogram = spectrogram.T\n",
    "# # replace 0 values with 10e-9\n",
    "# spectrogram = np.where(spectrogram == 0, 10e-9,spectrogram)\n",
    "# print(f'max, min of df: {spectrogram.max()}, {spectrogram.min()}')\n",
    "# \n",
    "# # scale the spectrogram to have a max of 255\n",
    "# #spectrogram = 255 * (spectrogram / spectrogram.max())\n",
    "# \n",
    "# # take the log of the spectrogram\n",
    "# spectrogram = np.log(spectrogram)\n",
    "# print(f'max, min of df: {spectrogram.max()}, {spectrogram.min()}')\n",
    "# \n",
    "# spectrogram = spectrogram + np.abs(np.min(spectrogram))\n",
    "# spectrogram = 255 * (spectrogram / spectrogram.max())\n",
    "# # convert to uint8\n",
    "# spectrogram = spectrogram.astype(np.uint8)\n",
    "# \n",
    "# print(f'max, min of df: {spectrogram.max()}, {spectrogram.min()}')\n",
    "# \n",
    "# plt.imshow(spectrogram,cmap='viridis')"
   ],
   "metadata": {
    "collapsed": false,
    "ExecuteTime": {
     "end_time": "2024-01-24T13:28:10.654239289Z",
     "start_time": "2024-01-24T13:28:10.625779337Z"
    }
   },
   "id": "5523556578515191"
  },
  {
   "cell_type": "code",
   "execution_count": 18,
   "outputs": [],
   "source": [
    "# print(f'min, max = {spectrogram.min()}, {spectrogram.max():.3f}')\n",
    "# \n",
    "# #find the index of the max value in the spectrogram\n",
    "# max_index = np.where(spectrogram == spectrogram.max())\n",
    "# print(f'index of max value: {max_index}')\n",
    "# \n",
    "# # are there any nan values?\n",
    "# print(f'number of nan values: {np.isnan(spectrogram).sum()}')\n",
    "# \n",
    "# # are there any inf values?\n",
    "# print(f'number of inf values: {np.isinf(spectrogram).sum()}')\n"
   ],
   "metadata": {
    "collapsed": false,
    "ExecuteTime": {
     "end_time": "2024-01-24T13:28:10.692774413Z",
     "start_time": "2024-01-24T13:28:10.627052727Z"
    }
   },
   "id": "d9bd791138bf5487"
  },
  {
   "cell_type": "markdown",
   "source": [
    "## Solved: Problem is we have some outliers (speckle) that are throwing off the color scale\n",
    "* Option 1: Remove outliers with stdev\n",
    "* Option 2: Image filtering to remove \"salt and pepper\" noise\n",
    "* Option 3: Use log scale (can be used additionaly with options 1 or 2)\n",
    "\n",
    "Actually, it was zero values turning into -inf when taking log.  \n",
    "* Replaced 0 with 10e-9 and it works\n",
    "* Still taking logs before saving images"
   ],
   "metadata": {
    "collapsed": false
   },
   "id": "3399b4e221045fe5"
  },
  {
   "cell_type": "markdown",
   "source": [
    "## These are different lenghts, so need to split or crop or something\n",
    "* Look at distribution of lengths"
   ],
   "metadata": {
    "collapsed": false
   },
   "id": "a2a8f9b49afe3b99"
  },
  {
   "cell_type": "code",
   "execution_count": 16,
   "outputs": [
    {
     "name": "stdout",
     "output_type": "stream",
     "text": [
      "CPU times: user 3min 12s, sys: 42.5 s, total: 3min 54s\n",
      "Wall time: 1min 53s\n"
     ]
    }
   ],
   "source": [
    "%%time\n",
    "# loop through all spectrograms and get length\n",
    "lengths = []\n",
    "for i in range(len(spectrograms)):\n",
    "    df = pd.read_parquet(spectrograms[i])\n",
    "    fname = spectrograms[i].split('/')[-1].split('.')[0]\n",
    "    lengths.append([fname,df.shape[0]])\n",
    "        \n"
   ],
   "metadata": {
    "collapsed": false,
    "ExecuteTime": {
     "end_time": "2024-01-24T13:28:10.625431344Z",
     "start_time": "2024-01-24T13:26:17.470680886Z"
    }
   },
   "id": "918f378c022b5856"
  },
  {
   "cell_type": "code",
   "execution_count": 310,
   "outputs": [
    {
     "data": {
      "text/plain": "[['764146759', 9116],\n ['1863712617', 6750],\n ['2060670605', 5742],\n ['1908433744', 5281],\n ['1343094925', 4894]]"
     },
     "execution_count": 310,
     "metadata": {},
     "output_type": "execute_result"
    }
   ],
   "source": [
    "lengths[0:5]"
   ],
   "metadata": {
    "collapsed": false,
    "ExecuteTime": {
     "end_time": "2024-01-24T12:45:54.879425075Z",
     "start_time": "2024-01-24T12:45:54.777106410Z"
    }
   },
   "id": "ed6076ed8de1181f"
  },
  {
   "cell_type": "code",
   "execution_count": 311,
   "outputs": [
    {
     "data": {
      "text/plain": "<Figure size 1000x400 with 1 Axes>",
      "image/png": "[encoded data removed]"
     },
     "metadata": {},
     "output_type": "display_data"
    }
   ],
   "source": [
    "# make a histogram of the lengths\n",
    "plt.figure(figsize=(10,4))\n",
    "lengths = [length[1] for length in lengths]\n",
    "plt.hist(lengths,bins=20)\n",
    "plt.title('Distribution of Spectrogram Lengths');\n",
    "\n"
   ],
   "metadata": {
    "collapsed": false,
    "ExecuteTime": {
     "end_time": "2024-01-24T12:45:57.478278675Z",
     "start_time": "2024-01-24T12:45:57.283000092Z"
    }
   },
   "id": "23ba76f16d4d3d0e"
  },
  {
   "cell_type": "markdown",
   "source": [
    "## In training, split based on sub_id"
   ],
   "metadata": {
    "collapsed": false
   },
   "id": "cbada645867a9eef"
  },
  {
   "cell_type": "code",
   "execution_count": null,
   "outputs": [],
   "source": [],
   "metadata": {
    "collapsed": false
   },
   "id": "e2ec8a20a482b2f3"
  }
 ],
 "metadata": {
  "kernelspec": {
   "display_name": "Python 3",
   "language": "python",
   "name": "python3"
  },
  "language_info": {
   "codemirror_mode": {
    "name": "ipython",
    "version": 2
   },
   "file_extension": ".py",
   "mimetype": "text/x-python",
   "name": "python",
   "nbconvert_exporter": "python",
   "pygments_lexer": "ipython2",
   "version": "2.7.6"
  }
 },
 "nbformat": 4,
 "nbformat_minor": 5
}
